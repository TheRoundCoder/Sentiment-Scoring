{
 "cells": [
  {
   "cell_type": "code",
   "execution_count": null,
   "metadata": {
    "colab": {
     "base_uri": "https://localhost:8080/"
    },
    "id": "XEHlYBDCCZW8",
    "outputId": "846fc25d-5b87-46de-fda6-3a7300ccce9a"
   },
   "outputs": [
    {
     "name": "stdout",
     "output_type": "stream",
     "text": [
      "Collecting eventregistry\n",
      "  Downloading eventregistry-8.10.tar.gz (51 kB)\n",
      "\u001b[?25l\r",
      "\u001b[K     |██████▍                         | 10 kB 13.5 MB/s eta 0:00:01\r",
      "\u001b[K     |████████████▊                   | 20 kB 17.1 MB/s eta 0:00:01\r",
      "\u001b[K     |███████████████████             | 30 kB 13.5 MB/s eta 0:00:01\r",
      "\u001b[K     |█████████████████████████▍      | 40 kB 15.8 MB/s eta 0:00:01\r",
      "\u001b[K     |███████████████████████████████▊| 51 kB 18.1 MB/s eta 0:00:01\r",
      "\u001b[K     |████████████████████████████████| 51 kB 445 kB/s \n",
      "\u001b[?25hRequirement already satisfied: requests in /usr/local/lib/python3.7/dist-packages (from eventregistry) (2.23.0)\n",
      "Requirement already satisfied: six in /usr/local/lib/python3.7/dist-packages (from eventregistry) (1.15.0)\n",
      "Requirement already satisfied: pytz in /usr/local/lib/python3.7/dist-packages (from eventregistry) (2018.9)\n",
      "Requirement already satisfied: certifi>=2017.4.17 in /usr/local/lib/python3.7/dist-packages (from requests->eventregistry) (2021.5.30)\n",
      "Requirement already satisfied: urllib3!=1.25.0,!=1.25.1,<1.26,>=1.21.1 in /usr/local/lib/python3.7/dist-packages (from requests->eventregistry) (1.24.3)\n",
      "Requirement already satisfied: idna<3,>=2.5 in /usr/local/lib/python3.7/dist-packages (from requests->eventregistry) (2.10)\n",
      "Requirement already satisfied: chardet<4,>=3.0.2 in /usr/local/lib/python3.7/dist-packages (from requests->eventregistry) (3.0.4)\n",
      "Building wheels for collected packages: eventregistry\n",
      "  Building wheel for eventregistry (setup.py) ... \u001b[?25l\u001b[?25hdone\n",
      "  Created wheel for eventregistry: filename=eventregistry-8.10-py3-none-any.whl size=63178 sha256=9982e912f72bc75cc20ce9353d27319d53abaa3665be283a237b8969c23bfad0\n",
      "  Stored in directory: /root/.cache/pip/wheels/85/87/51/89006a9990978feb1f136874d2ce40df94b38a7f1c7ecfb271\n",
      "Successfully built eventregistry\n",
      "Installing collected packages: eventregistry\n",
      "Successfully installed eventregistry-8.10\n",
      "Requirement already satisfied: spacy in /usr/local/lib/python3.7/dist-packages (2.2.4)\n",
      "Requirement already satisfied: murmurhash<1.1.0,>=0.28.0 in /usr/local/lib/python3.7/dist-packages (from spacy) (1.0.5)\n",
      "Requirement already satisfied: thinc==7.4.0 in /usr/local/lib/python3.7/dist-packages (from spacy) (7.4.0)\n",
      "Requirement already satisfied: blis<0.5.0,>=0.4.0 in /usr/local/lib/python3.7/dist-packages (from spacy) (0.4.1)\n",
      "Requirement already satisfied: preshed<3.1.0,>=3.0.2 in /usr/local/lib/python3.7/dist-packages (from spacy) (3.0.5)\n",
      "Requirement already satisfied: numpy>=1.15.0 in /usr/local/lib/python3.7/dist-packages (from spacy) (1.19.5)\n",
      "Requirement already satisfied: setuptools in /usr/local/lib/python3.7/dist-packages (from spacy) (57.4.0)\n",
      "Requirement already satisfied: plac<1.2.0,>=0.9.6 in /usr/local/lib/python3.7/dist-packages (from spacy) (1.1.3)\n",
      "Requirement already satisfied: requests<3.0.0,>=2.13.0 in /usr/local/lib/python3.7/dist-packages (from spacy) (2.23.0)\n",
      "Requirement already satisfied: tqdm<5.0.0,>=4.38.0 in /usr/local/lib/python3.7/dist-packages (from spacy) (4.62.0)\n",
      "Requirement already satisfied: cymem<2.1.0,>=2.0.2 in /usr/local/lib/python3.7/dist-packages (from spacy) (2.0.5)\n",
      "Requirement already satisfied: catalogue<1.1.0,>=0.0.7 in /usr/local/lib/python3.7/dist-packages (from spacy) (1.0.0)\n",
      "Requirement already satisfied: srsly<1.1.0,>=1.0.2 in /usr/local/lib/python3.7/dist-packages (from spacy) (1.0.5)\n",
      "Requirement already satisfied: wasabi<1.1.0,>=0.4.0 in /usr/local/lib/python3.7/dist-packages (from spacy) (0.8.2)\n",
      "Requirement already satisfied: importlib-metadata>=0.20 in /usr/local/lib/python3.7/dist-packages (from catalogue<1.1.0,>=0.0.7->spacy) (4.6.3)\n",
      "Requirement already satisfied: typing-extensions>=3.6.4 in /usr/local/lib/python3.7/dist-packages (from importlib-metadata>=0.20->catalogue<1.1.0,>=0.0.7->spacy) (3.7.4.3)\n",
      "Requirement already satisfied: zipp>=0.5 in /usr/local/lib/python3.7/dist-packages (from importlib-metadata>=0.20->catalogue<1.1.0,>=0.0.7->spacy) (3.5.0)\n",
      "Requirement already satisfied: urllib3!=1.25.0,!=1.25.1,<1.26,>=1.21.1 in /usr/local/lib/python3.7/dist-packages (from requests<3.0.0,>=2.13.0->spacy) (1.24.3)\n",
      "Requirement already satisfied: chardet<4,>=3.0.2 in /usr/local/lib/python3.7/dist-packages (from requests<3.0.0,>=2.13.0->spacy) (3.0.4)\n",
      "Requirement already satisfied: idna<3,>=2.5 in /usr/local/lib/python3.7/dist-packages (from requests<3.0.0,>=2.13.0->spacy) (2.10)\n",
      "Requirement already satisfied: certifi>=2017.4.17 in /usr/local/lib/python3.7/dist-packages (from requests<3.0.0,>=2.13.0->spacy) (2021.5.30)\n",
      "Collecting fsspec\n",
      "  Downloading fsspec-2021.7.0-py3-none-any.whl (118 kB)\n",
      "\u001b[K     |████████████████████████████████| 118 kB 15.0 MB/s \n",
      "\u001b[?25hInstalling collected packages: fsspec\n",
      "Successfully installed fsspec-2021.7.0\n",
      "Collecting gcsfs\n",
      "  Downloading gcsfs-2021.7.0-py2.py3-none-any.whl (23 kB)\n",
      "Requirement already satisfied: google-auth>=1.2 in /usr/local/lib/python3.7/dist-packages (from gcsfs) (1.34.0)\n",
      "Requirement already satisfied: google-auth-oauthlib in /usr/local/lib/python3.7/dist-packages (from gcsfs) (0.4.5)\n",
      "Requirement already satisfied: requests in /usr/local/lib/python3.7/dist-packages (from gcsfs) (2.23.0)\n",
      "Collecting aiohttp\n",
      "  Downloading aiohttp-3.7.4.post0-cp37-cp37m-manylinux2014_x86_64.whl (1.3 MB)\n",
      "\u001b[K     |████████████████████████████████| 1.3 MB 16.0 MB/s \n",
      "\u001b[?25hRequirement already satisfied: fsspec==2021.07.0 in /usr/local/lib/python3.7/dist-packages (from gcsfs) (2021.7.0)\n",
      "Requirement already satisfied: decorator in /usr/local/lib/python3.7/dist-packages (from gcsfs) (4.4.2)\n",
      "Requirement already satisfied: rsa<5,>=3.1.4 in /usr/local/lib/python3.7/dist-packages (from google-auth>=1.2->gcsfs) (4.7.2)\n",
      "Requirement already satisfied: pyasn1-modules>=0.2.1 in /usr/local/lib/python3.7/dist-packages (from google-auth>=1.2->gcsfs) (0.2.8)\n",
      "Requirement already satisfied: setuptools>=40.3.0 in /usr/local/lib/python3.7/dist-packages (from google-auth>=1.2->gcsfs) (57.4.0)\n",
      "Requirement already satisfied: cachetools<5.0,>=2.0.0 in /usr/local/lib/python3.7/dist-packages (from google-auth>=1.2->gcsfs) (4.2.2)\n",
      "Requirement already satisfied: six>=1.9.0 in /usr/local/lib/python3.7/dist-packages (from google-auth>=1.2->gcsfs) (1.15.0)\n",
      "Requirement already satisfied: pyasn1<0.5.0,>=0.4.6 in /usr/local/lib/python3.7/dist-packages (from pyasn1-modules>=0.2.1->google-auth>=1.2->gcsfs) (0.4.8)\n",
      "Collecting async-timeout<4.0,>=3.0\n",
      "  Downloading async_timeout-3.0.1-py3-none-any.whl (8.2 kB)\n",
      "Requirement already satisfied: chardet<5.0,>=2.0 in /usr/local/lib/python3.7/dist-packages (from aiohttp->gcsfs) (3.0.4)\n",
      "Requirement already satisfied: attrs>=17.3.0 in /usr/local/lib/python3.7/dist-packages (from aiohttp->gcsfs) (21.2.0)\n",
      "Collecting yarl<2.0,>=1.0\n",
      "  Downloading yarl-1.6.3-cp37-cp37m-manylinux2014_x86_64.whl (294 kB)\n",
      "\u001b[K     |████████████████████████████████| 294 kB 41.9 MB/s \n",
      "\u001b[?25hCollecting multidict<7.0,>=4.5\n",
      "  Downloading multidict-5.1.0-cp37-cp37m-manylinux2014_x86_64.whl (142 kB)\n",
      "\u001b[K     |████████████████████████████████| 142 kB 44.1 MB/s \n",
      "\u001b[?25hRequirement already satisfied: typing-extensions>=3.6.5 in /usr/local/lib/python3.7/dist-packages (from aiohttp->gcsfs) (3.7.4.3)\n",
      "Requirement already satisfied: idna>=2.0 in /usr/local/lib/python3.7/dist-packages (from yarl<2.0,>=1.0->aiohttp->gcsfs) (2.10)\n",
      "Requirement already satisfied: requests-oauthlib>=0.7.0 in /usr/local/lib/python3.7/dist-packages (from google-auth-oauthlib->gcsfs) (1.3.0)\n",
      "Requirement already satisfied: oauthlib>=3.0.0 in /usr/local/lib/python3.7/dist-packages (from requests-oauthlib>=0.7.0->google-auth-oauthlib->gcsfs) (3.1.1)\n",
      "Requirement already satisfied: urllib3!=1.25.0,!=1.25.1,<1.26,>=1.21.1 in /usr/local/lib/python3.7/dist-packages (from requests->gcsfs) (1.24.3)\n",
      "Requirement already satisfied: certifi>=2017.4.17 in /usr/local/lib/python3.7/dist-packages (from requests->gcsfs) (2021.5.30)\n",
      "Installing collected packages: multidict, yarl, async-timeout, aiohttp, gcsfs\n",
      "Successfully installed aiohttp-3.7.4.post0 async-timeout-3.0.1 gcsfs-2021.7.0 multidict-5.1.0 yarl-1.6.3\n",
      "Collecting text2emotion\n",
      "  Downloading text2emotion-0.0.5-py3-none-any.whl (57 kB)\n",
      "\u001b[K     |████████████████████████████████| 57 kB 4.8 MB/s \n",
      "\u001b[?25hCollecting emoji>=0.6.0\n",
      "  Downloading emoji-1.4.2.tar.gz (184 kB)\n",
      "\u001b[K     |████████████████████████████████| 184 kB 25.8 MB/s \n",
      "\u001b[?25hRequirement already satisfied: nltk in /usr/local/lib/python3.7/dist-packages (from text2emotion) (3.2.5)\n",
      "Requirement already satisfied: six in /usr/local/lib/python3.7/dist-packages (from nltk->text2emotion) (1.15.0)\n",
      "Building wheels for collected packages: emoji\n",
      "  Building wheel for emoji (setup.py) ... \u001b[?25l\u001b[?25hdone\n",
      "  Created wheel for emoji: filename=emoji-1.4.2-py3-none-any.whl size=186469 sha256=7fa214f72a9d350bfb2412f8630d50ee5adf51bcfd2e29e3308532b3d04f8160\n",
      "  Stored in directory: /root/.cache/pip/wheels/e4/61/e7/2fc1ac8f306848fc66c6c013ab511f0a39ef4b1825b11363b2\n",
      "Successfully built emoji\n",
      "Installing collected packages: emoji, text2emotion\n",
      "Successfully installed emoji-1.4.2 text2emotion-0.0.5\n",
      "Collecting newsapi-python\n",
      "  Downloading newsapi_python-0.2.6-py2.py3-none-any.whl (7.9 kB)\n",
      "Requirement already satisfied: requests<3.0.0 in /usr/local/lib/python3.7/dist-packages (from newsapi-python) (2.23.0)\n",
      "Requirement already satisfied: idna<3,>=2.5 in /usr/local/lib/python3.7/dist-packages (from requests<3.0.0->newsapi-python) (2.10)\n",
      "Requirement already satisfied: chardet<4,>=3.0.2 in /usr/local/lib/python3.7/dist-packages (from requests<3.0.0->newsapi-python) (3.0.4)\n",
      "Requirement already satisfied: urllib3!=1.25.0,!=1.25.1,<1.26,>=1.21.1 in /usr/local/lib/python3.7/dist-packages (from requests<3.0.0->newsapi-python) (1.24.3)\n",
      "Requirement already satisfied: certifi>=2017.4.17 in /usr/local/lib/python3.7/dist-packages (from requests<3.0.0->newsapi-python) (2021.5.30)\n",
      "Installing collected packages: newsapi-python\n",
      "Successfully installed newsapi-python-0.2.6\n",
      "Collecting cloudstorage\n",
      "  Downloading cloudstorage-0.11.0-py3-none-any.whl (54 kB)\n",
      "\u001b[K     |████████████████████████████████| 54 kB 2.4 MB/s \n",
      "\u001b[?25hRequirement already satisfied: python-dateutil>=2.7.3 in /usr/local/lib/python3.7/dist-packages (from cloudstorage) (2.8.2)\n",
      "Collecting inflection>=0.3.1\n",
      "  Downloading inflection-0.5.1-py2.py3-none-any.whl (9.5 kB)\n",
      "Collecting python-magic>=0.4.15\n",
      "  Downloading python_magic-0.4.24-py2.py3-none-any.whl (12 kB)\n",
      "Requirement already satisfied: six>=1.5 in /usr/local/lib/python3.7/dist-packages (from python-dateutil>=2.7.3->cloudstorage) (1.15.0)\n",
      "Installing collected packages: python-magic, inflection, cloudstorage\n",
      "Successfully installed cloudstorage-0.11.0 inflection-0.5.1 python-magic-0.4.24\n"
     ]
    }
   ],
   "source": [
    "!pip install eventregistry\n",
    "!pip install spacy\n",
    "!pip install fsspec\n",
    "!pip install gcsfs \n",
    "!pip install text2emotion\n",
    "!pip install newsapi-python\n",
    "!pip install cloudstorage"
   ]
  },
  {
   "cell_type": "code",
   "execution_count": null,
   "metadata": {
    "colab": {
     "base_uri": "https://localhost:8080/",
     "height": 527
    },
    "id": "AJn5ZE0DnJSH",
    "outputId": "01fd3629-7fdb-4edc-fb87-387826a2223b"
   },
   "outputs": [
    {
     "ename": "KeyboardInterrupt",
     "evalue": "ignored",
     "output_type": "error",
     "traceback": [
      "\u001b[0;31m---------------------------------------------------------------------------\u001b[0m",
      "\u001b[0;31mKeyboardInterrupt\u001b[0m                         Traceback (most recent call last)",
      "\u001b[0;32m/usr/local/lib/python3.7/dist-packages/ipykernel/kernelbase.py\u001b[0m in \u001b[0;36m_input_request\u001b[0;34m(self, prompt, ident, parent, password)\u001b[0m\n\u001b[1;32m    728\u001b[0m             \u001b[0;32mtry\u001b[0m\u001b[0;34m:\u001b[0m\u001b[0;34m\u001b[0m\u001b[0;34m\u001b[0m\u001b[0m\n\u001b[0;32m--> 729\u001b[0;31m                 \u001b[0mident\u001b[0m\u001b[0;34m,\u001b[0m \u001b[0mreply\u001b[0m \u001b[0;34m=\u001b[0m \u001b[0mself\u001b[0m\u001b[0;34m.\u001b[0m\u001b[0msession\u001b[0m\u001b[0;34m.\u001b[0m\u001b[0mrecv\u001b[0m\u001b[0;34m(\u001b[0m\u001b[0mself\u001b[0m\u001b[0;34m.\u001b[0m\u001b[0mstdin_socket\u001b[0m\u001b[0;34m,\u001b[0m \u001b[0;36m0\u001b[0m\u001b[0;34m)\u001b[0m\u001b[0;34m\u001b[0m\u001b[0;34m\u001b[0m\u001b[0m\n\u001b[0m\u001b[1;32m    730\u001b[0m             \u001b[0;32mexcept\u001b[0m \u001b[0mException\u001b[0m\u001b[0;34m:\u001b[0m\u001b[0;34m\u001b[0m\u001b[0;34m\u001b[0m\u001b[0m\n",
      "\u001b[0;32m/usr/local/lib/python3.7/dist-packages/jupyter_client/session.py\u001b[0m in \u001b[0;36mrecv\u001b[0;34m(self, socket, mode, content, copy)\u001b[0m\n\u001b[1;32m    802\u001b[0m         \u001b[0;32mtry\u001b[0m\u001b[0;34m:\u001b[0m\u001b[0;34m\u001b[0m\u001b[0;34m\u001b[0m\u001b[0m\n\u001b[0;32m--> 803\u001b[0;31m             \u001b[0mmsg_list\u001b[0m \u001b[0;34m=\u001b[0m \u001b[0msocket\u001b[0m\u001b[0;34m.\u001b[0m\u001b[0mrecv_multipart\u001b[0m\u001b[0;34m(\u001b[0m\u001b[0mmode\u001b[0m\u001b[0;34m,\u001b[0m \u001b[0mcopy\u001b[0m\u001b[0;34m=\u001b[0m\u001b[0mcopy\u001b[0m\u001b[0;34m)\u001b[0m\u001b[0;34m\u001b[0m\u001b[0;34m\u001b[0m\u001b[0m\n\u001b[0m\u001b[1;32m    804\u001b[0m         \u001b[0;32mexcept\u001b[0m \u001b[0mzmq\u001b[0m\u001b[0;34m.\u001b[0m\u001b[0mZMQError\u001b[0m \u001b[0;32mas\u001b[0m \u001b[0me\u001b[0m\u001b[0;34m:\u001b[0m\u001b[0;34m\u001b[0m\u001b[0;34m\u001b[0m\u001b[0m\n",
      "\u001b[0;32m/usr/local/lib/python3.7/dist-packages/zmq/sugar/socket.py\u001b[0m in \u001b[0;36mrecv_multipart\u001b[0;34m(self, flags, copy, track)\u001b[0m\n\u001b[1;32m    618\u001b[0m         \"\"\"\n\u001b[0;32m--> 619\u001b[0;31m         \u001b[0mparts\u001b[0m \u001b[0;34m=\u001b[0m \u001b[0;34m[\u001b[0m\u001b[0mself\u001b[0m\u001b[0;34m.\u001b[0m\u001b[0mrecv\u001b[0m\u001b[0;34m(\u001b[0m\u001b[0mflags\u001b[0m\u001b[0;34m,\u001b[0m \u001b[0mcopy\u001b[0m\u001b[0;34m=\u001b[0m\u001b[0mcopy\u001b[0m\u001b[0;34m,\u001b[0m \u001b[0mtrack\u001b[0m\u001b[0;34m=\u001b[0m\u001b[0mtrack\u001b[0m\u001b[0;34m)\u001b[0m\u001b[0;34m]\u001b[0m\u001b[0;34m\u001b[0m\u001b[0;34m\u001b[0m\u001b[0m\n\u001b[0m\u001b[1;32m    620\u001b[0m         \u001b[0;31m# have first part already, only loop while more to receive\u001b[0m\u001b[0;34m\u001b[0m\u001b[0;34m\u001b[0m\u001b[0;34m\u001b[0m\u001b[0m\n",
      "\u001b[0;32mzmq/backend/cython/socket.pyx\u001b[0m in \u001b[0;36mzmq.backend.cython.socket.Socket.recv\u001b[0;34m()\u001b[0m\n",
      "\u001b[0;32mzmq/backend/cython/socket.pyx\u001b[0m in \u001b[0;36mzmq.backend.cython.socket.Socket.recv\u001b[0;34m()\u001b[0m\n",
      "\u001b[0;32mzmq/backend/cython/socket.pyx\u001b[0m in \u001b[0;36mzmq.backend.cython.socket._recv_copy\u001b[0;34m()\u001b[0m\n",
      "\u001b[0;32m/usr/local/lib/python3.7/dist-packages/zmq/backend/cython/checkrc.pxd\u001b[0m in \u001b[0;36mzmq.backend.cython.checkrc._check_rc\u001b[0;34m()\u001b[0m\n",
      "\u001b[0;31mKeyboardInterrupt\u001b[0m: ",
      "\nDuring handling of the above exception, another exception occurred:\n",
      "\u001b[0;31mKeyboardInterrupt\u001b[0m                         Traceback (most recent call last)",
      "\u001b[0;32m<ipython-input-2-72d5df06d7c0>\u001b[0m in \u001b[0;36m<module>\u001b[0;34m()\u001b[0m\n\u001b[1;32m      8\u001b[0m \u001b[0;32mfrom\u001b[0m \u001b[0mgoogle\u001b[0m\u001b[0;34m.\u001b[0m\u001b[0mcloud\u001b[0m \u001b[0;32mimport\u001b[0m \u001b[0mbigquery\u001b[0m\u001b[0;34m\u001b[0m\u001b[0;34m\u001b[0m\u001b[0m\n\u001b[1;32m      9\u001b[0m \u001b[0;32mfrom\u001b[0m \u001b[0mgoogle\u001b[0m\u001b[0;34m.\u001b[0m\u001b[0mcloud\u001b[0m \u001b[0;32mimport\u001b[0m \u001b[0mstorage\u001b[0m\u001b[0;34m\u001b[0m\u001b[0;34m\u001b[0m\u001b[0m\n\u001b[0;32m---> 10\u001b[0;31m \u001b[0mauth\u001b[0m\u001b[0;34m.\u001b[0m\u001b[0mauthenticate_user\u001b[0m\u001b[0;34m(\u001b[0m\u001b[0;34m)\u001b[0m\u001b[0;34m\u001b[0m\u001b[0;34m\u001b[0m\u001b[0m\n\u001b[0m\u001b[1;32m     11\u001b[0m \u001b[0;32mimport\u001b[0m \u001b[0mstatistics\u001b[0m\u001b[0;34m\u001b[0m\u001b[0;34m\u001b[0m\u001b[0m\n\u001b[1;32m     12\u001b[0m \u001b[0;32mfrom\u001b[0m \u001b[0mIPython\u001b[0m \u001b[0;32mimport\u001b[0m \u001b[0mdisplay\u001b[0m\u001b[0;34m\u001b[0m\u001b[0;34m\u001b[0m\u001b[0m\n",
      "\u001b[0;32m/usr/local/lib/python3.7/dist-packages/google/colab/auth.py\u001b[0m in \u001b[0;36mauthenticate_user\u001b[0;34m(clear_output)\u001b[0m\n\u001b[1;32m    151\u001b[0m     \u001b[0mcontext_manager\u001b[0m \u001b[0;34m=\u001b[0m \u001b[0m_output\u001b[0m\u001b[0;34m.\u001b[0m\u001b[0mtemporary\u001b[0m \u001b[0;32mif\u001b[0m \u001b[0mclear_output\u001b[0m \u001b[0;32melse\u001b[0m \u001b[0m_noop\u001b[0m\u001b[0;34m\u001b[0m\u001b[0;34m\u001b[0m\u001b[0m\n\u001b[1;32m    152\u001b[0m     \u001b[0;32mwith\u001b[0m \u001b[0mcontext_manager\u001b[0m\u001b[0;34m(\u001b[0m\u001b[0;34m)\u001b[0m\u001b[0;34m:\u001b[0m\u001b[0;34m\u001b[0m\u001b[0;34m\u001b[0m\u001b[0m\n\u001b[0;32m--> 153\u001b[0;31m       \u001b[0m_gcloud_login\u001b[0m\u001b[0;34m(\u001b[0m\u001b[0;34m)\u001b[0m\u001b[0;34m\u001b[0m\u001b[0;34m\u001b[0m\u001b[0m\n\u001b[0m\u001b[1;32m    154\u001b[0m     \u001b[0m_install_adc\u001b[0m\u001b[0;34m(\u001b[0m\u001b[0;34m)\u001b[0m\u001b[0;34m\u001b[0m\u001b[0;34m\u001b[0m\u001b[0m\n\u001b[1;32m    155\u001b[0m     \u001b[0mcolab_tpu_addr\u001b[0m \u001b[0;34m=\u001b[0m \u001b[0m_os\u001b[0m\u001b[0;34m.\u001b[0m\u001b[0menviron\u001b[0m\u001b[0;34m.\u001b[0m\u001b[0mget\u001b[0m\u001b[0;34m(\u001b[0m\u001b[0;34m'COLAB_TPU_ADDR'\u001b[0m\u001b[0;34m,\u001b[0m \u001b[0;34m''\u001b[0m\u001b[0;34m)\u001b[0m\u001b[0;34m\u001b[0m\u001b[0;34m\u001b[0m\u001b[0m\n",
      "\u001b[0;32m/usr/local/lib/python3.7/dist-packages/google/colab/auth.py\u001b[0m in \u001b[0;36m_gcloud_login\u001b[0;34m()\u001b[0m\n\u001b[1;32m     93\u001b[0m     \u001b[0;31m# https://github.com/jupyter/notebook/issues/3159\u001b[0m\u001b[0;34m\u001b[0m\u001b[0;34m\u001b[0m\u001b[0;34m\u001b[0m\u001b[0m\n\u001b[1;32m     94\u001b[0m     \u001b[0mprompt\u001b[0m \u001b[0;34m=\u001b[0m \u001b[0mprompt\u001b[0m\u001b[0;34m.\u001b[0m\u001b[0mrstrip\u001b[0m\u001b[0;34m(\u001b[0m\u001b[0;34m)\u001b[0m\u001b[0;34m\u001b[0m\u001b[0;34m\u001b[0m\u001b[0m\n\u001b[0;32m---> 95\u001b[0;31m     \u001b[0mcode\u001b[0m \u001b[0;34m=\u001b[0m \u001b[0mget_code\u001b[0m\u001b[0;34m(\u001b[0m\u001b[0mprompt\u001b[0m \u001b[0;34m+\u001b[0m \u001b[0;34m' '\u001b[0m\u001b[0;34m)\u001b[0m\u001b[0;34m\u001b[0m\u001b[0;34m\u001b[0m\u001b[0m\n\u001b[0m\u001b[1;32m     96\u001b[0m     \u001b[0mgcloud_process\u001b[0m\u001b[0;34m.\u001b[0m\u001b[0mcommunicate\u001b[0m\u001b[0;34m(\u001b[0m\u001b[0mcode\u001b[0m\u001b[0;34m.\u001b[0m\u001b[0mstrip\u001b[0m\u001b[0;34m(\u001b[0m\u001b[0;34m)\u001b[0m\u001b[0;34m)\u001b[0m\u001b[0;34m\u001b[0m\u001b[0;34m\u001b[0m\u001b[0m\n\u001b[1;32m     97\u001b[0m   \u001b[0;32mfinally\u001b[0m\u001b[0;34m:\u001b[0m\u001b[0;34m\u001b[0m\u001b[0;34m\u001b[0m\u001b[0m\n",
      "\u001b[0;32m/usr/local/lib/python3.7/dist-packages/ipykernel/kernelbase.py\u001b[0m in \u001b[0;36mraw_input\u001b[0;34m(self, prompt)\u001b[0m\n\u001b[1;32m    702\u001b[0m             \u001b[0mself\u001b[0m\u001b[0;34m.\u001b[0m\u001b[0m_parent_ident\u001b[0m\u001b[0;34m,\u001b[0m\u001b[0;34m\u001b[0m\u001b[0;34m\u001b[0m\u001b[0m\n\u001b[1;32m    703\u001b[0m             \u001b[0mself\u001b[0m\u001b[0;34m.\u001b[0m\u001b[0m_parent_header\u001b[0m\u001b[0;34m,\u001b[0m\u001b[0;34m\u001b[0m\u001b[0;34m\u001b[0m\u001b[0m\n\u001b[0;32m--> 704\u001b[0;31m             \u001b[0mpassword\u001b[0m\u001b[0;34m=\u001b[0m\u001b[0;32mFalse\u001b[0m\u001b[0;34m,\u001b[0m\u001b[0;34m\u001b[0m\u001b[0;34m\u001b[0m\u001b[0m\n\u001b[0m\u001b[1;32m    705\u001b[0m         )\n\u001b[1;32m    706\u001b[0m \u001b[0;34m\u001b[0m\u001b[0m\n",
      "\u001b[0;32m/usr/local/lib/python3.7/dist-packages/ipykernel/kernelbase.py\u001b[0m in \u001b[0;36m_input_request\u001b[0;34m(self, prompt, ident, parent, password)\u001b[0m\n\u001b[1;32m    732\u001b[0m             \u001b[0;32mexcept\u001b[0m \u001b[0mKeyboardInterrupt\u001b[0m\u001b[0;34m:\u001b[0m\u001b[0;34m\u001b[0m\u001b[0;34m\u001b[0m\u001b[0m\n\u001b[1;32m    733\u001b[0m                 \u001b[0;31m# re-raise KeyboardInterrupt, to truncate traceback\u001b[0m\u001b[0;34m\u001b[0m\u001b[0;34m\u001b[0m\u001b[0;34m\u001b[0m\u001b[0m\n\u001b[0;32m--> 734\u001b[0;31m                 \u001b[0;32mraise\u001b[0m \u001b[0mKeyboardInterrupt\u001b[0m\u001b[0;34m\u001b[0m\u001b[0;34m\u001b[0m\u001b[0m\n\u001b[0m\u001b[1;32m    735\u001b[0m             \u001b[0;32melse\u001b[0m\u001b[0;34m:\u001b[0m\u001b[0;34m\u001b[0m\u001b[0;34m\u001b[0m\u001b[0m\n\u001b[1;32m    736\u001b[0m                 \u001b[0;32mbreak\u001b[0m\u001b[0;34m\u001b[0m\u001b[0;34m\u001b[0m\u001b[0m\n",
      "\u001b[0;31mKeyboardInterrupt\u001b[0m: "
     ]
    }
   ],
   "source": [
    "from eventregistry import *\n",
    "import json, os, sys\n",
    "import cloudstorage as gcs\n",
    "import pandas as pd\n",
    "from io import StringIO\n",
    "from pandas.io.json import json_normalize\n",
    "from google.colab import auth\n",
    "from google.cloud import bigquery\n",
    "from google.cloud import storage\n",
    "auth.authenticate_user()\n",
    "import statistics\n",
    "from IPython import display\n",
    "import math\n",
    "from pprint import pprint\n",
    "import pandas as pd\n",
    "import numpy as np\n",
    "import nltk\n",
    "import matplotlib.pyplot as plt\n",
    "import seaborn as sns\n",
    "from datetime import date\n",
    "from newsapi import NewsApiClient\n",
    "import datetime\n",
    "import text2emotion as te\n",
    "from textblob import TextBlob\n",
    "import nltk\n",
    "from nltk.sentiment.vader import SentimentIntensityAnalyzer as SIA\n",
    "from nltk.tokenize import word_tokenize, RegexpTokenizer\n",
    "from nltk.corpus import stopwords\n",
    "import imaplib\n",
    "import base64\n",
    "import os\n",
    "import email\n",
    "import requests\n",
    "stop_words = set(stopwords.words(\"english\"))\n",
    "tokenizer = RegexpTokenizer(r'\\w+')\n",
    "nltk.download('vader_lexicon')\n",
    "sns.set(style='darkgrid', context='talk', palette='Dark2')\n",
    "print('Authenticated')"
   ]
  },
  {
   "cell_type": "code",
   "execution_count": null,
   "metadata": {
    "id": "ty_uYPdFyMB0"
   },
   "outputs": [],
   "source": [
    "projectId = \"BQ_Project\"\n",
    "bqclient = bigquery.Client(project=projectId)\n",
    "storage_client = storage.Client(project=projectId)\n",
    "bucket = storage_client.get_bucket(\"GCS_BUCKET_NAME\")\n",
    "forecast_URL = \"WEATHER_API\"\n",
    "current_weather_url = \"WEATHER_API\""
   ]
  },
  {
   "cell_type": "code",
   "execution_count": null,
   "metadata": {
    "id": "AA7vjS3aDW91"
   },
   "outputs": [],
   "source": [
    "dataLocation = 'GCS_BUCKET_LOCATION'\n",
    "current = date.today()\n",
    "days = datetime.timedelta(90)\n",
    "new_date = current - days\n",
    "new_date = new_date.strftime(\"%Y-%m-%d\")\n",
    "current = current.strftime(\"%Y-%m-%d\")\n",
    "def createSentimentDataset(dataLocation, apiCall):\n",
    "  #Declarations\n",
    "  urls = []\n",
    "  new_list = []\n",
    "\n",
    "  df = pd.read_csv(dataLocation)\n",
    "  df = df.drop([3,4,7])\n",
    "  for x in df['URL'].iloc[0:]:\n",
    "    urls.append(x)\n",
    "    \n",
    "  for x in urls:\n",
    "    q = QueryArticlesIter(\n",
    "        keywords = QueryItems.OR([\"Covid-19\", \"Business\",\"Politics\",\"Travel\",\"Lifestyle\",'Weather',\"Sustainable\",\"New Zealand\"]),\n",
    "        sourceUri= apiCall.getSourceUri(x),\n",
    "        sourceLocationUri = apiCall.getLocationUri(\"New Zealand\"),\n",
    "        dateStart = new_date,\n",
    "        dateEnd = current)\n",
    "\n",
    "    print(\"Number of results: %d\" % q.count(er))\n",
    "\n",
    "    for art in q.execQuery(apiCall, sortBy = \"rel\", maxItems = 2000, returnInfo = ReturnInfo( \n",
    "        storyInfo=StoryInfoFlags(title=True), \n",
    "        articleInfo=ArticleInfoFlags(concepts=True, categories=True, duplicateList=True,socialScore =True,bodyLen=30000),\n",
    "        conceptInfo=ConceptInfoFlags(trendingScore=True),\n",
    "        sourceInfo = SourceInfoFlags(socialMedia=True,ranking=True))):\n",
    "        new_list.append(art)\n",
    "  print(\"Dataset Completed!\")\n",
    "\n",
    "  return new_list"
   ]
  },
  {
   "cell_type": "code",
   "execution_count": null,
   "metadata": {
    "id": "eLYufj8vEQSE"
   },
   "outputs": [],
   "source": [
    "def normalizeDataset(df):\n",
    "\n",
    "  new_df = pd.json_normalize(df)\n",
    "  new_df = pd.DataFrame(data=df)\n",
    "  new_df = new_df.rename(columns={'source.uri':'source_uri','source.dataType':'source_dataType','source.title':'source_title','shares.facebook':'shares_facebook','shares.pinterest':'shares_pinterest',\n",
    "                          'source.ranking.importanceRank':'source_ranking_importanceRank','source.ranking.alexaGlobalRank':'source_ranking_alexaGlobalRank','source.ranking.alexaCountryRank':'source_ranking_alexaCountryRank',\n",
    "                          'source.socialMedia.twitter':'source_socialMedia_twitter','source.socialMedia.facebook':'source_socialMedia_facebook'})\n",
    "  new_df.sort_values(by=['relevance'],ascending=False)\n",
    "\n",
    "  #Drop duplicate urls\n",
    "  new_df = new_df.drop_duplicates(subset=\"url\")\n",
    "  #Store normalized dataset in GCS\n",
    "\n",
    "  new_df['Count'] = 1\n",
    "  new_df['body'].to_csv('GCS_BUCKET_LOCATION')\n",
    "  new_df['url'].to_csv('GCS_BUCKET_LOCATION')\n",
    "\n",
    "\n",
    "  #Store raw data in BigQuery\n",
    "  new_df.to_gbq('baconator.raw_data', 'omega-cider-297120', if_exists='replace'\n",
    "                 )\n",
    "  print(\"Data Pushed!\")\n",
    "  return new_df"
   ]
  },
  {
   "cell_type": "code",
   "execution_count": null,
   "metadata": {
    "id": "4NNMqDD2HRou"
   },
   "outputs": [],
   "source": [
    "def createPolarityAnalysis(normalizeDf):\n",
    "  def getAnalysis(score):\n",
    "    if score < 0:\n",
    "      return 'Negative'\n",
    "    elif score == 0:\n",
    "      return 'Neutral'\n",
    "    else:\n",
    "      return 'Positive'\n",
    "\n",
    "  normalizeDf['sentiment'] = normalizeDf['body'].apply(lambda tweet: TextBlob(tweet).sentiment.polarity)\n",
    "  normalizeDf['sentiment'] = normalizeDf['sentiment'].apply(getAnalysis)\n",
    "\n",
    "  normalizeDf = pd.DataFrame({'Date':normalizeDf['date'],'Sentiments':normalizeDf['sentiment'],'Body':normalizeDf['body'],'URL':normalizeDf['url'],\"Relevance\":normalizeDf['relevance'],'Count':normalizeDf['Count']})\n",
    "\n",
    "  #Store Analysis in BigQuery\n",
    "  normalizeDf.to_gbq('baconator.textblob', projectId, if_exists='replace'\n",
    "                 )\n",
    "  print(\"Segment Pushed!\")\n",
    "\n",
    "  return normalizeDf"
   ]
  },
  {
   "cell_type": "code",
   "execution_count": null,
   "metadata": {
    "id": "iZP3xtX5R4WU"
   },
   "outputs": [],
   "source": [
    "def aggregateData(datorama_df,social_studio):\n",
    "\n",
    "  datorama_df = datorama_df[['Date','Sentiment','Count']]\n",
    "  social_studio= social_studio[['Date','Sentiment','Count']]\n",
    "\n",
    "  frames = [datorama_df,social_studio]\n",
    "  final_df = pd.concat(frames)\n",
    "\n",
    "  final_df = final_df.groupby([final_df['Date'],final_df['Sentiment']]).sum().reset_index()\n",
    "\n",
    "  final_df.to_gbq('baconator.aggregated_data',projectId,if_exists='replace')\n",
    "\n",
    "  return \"Data Pushed\""
   ]
  },
  {
   "cell_type": "code",
   "execution_count": 1,
   "metadata": {
    "id": "9C2YOXpkUIvP"
   },
   "outputs": [],
   "source": [
    "datorama_datalocation = \"GCS_BUCKET_LOCATION\"\n",
    "social_studio_location =\"GCS_BUCKET_LOCATION\"\n",
    "def datoramaDataPull(dataLocation):\n",
    "  def getAnalysis(score):\n",
    "    if score < 0:\n",
    "      return 'Negative'\n",
    "    elif score == 0:\n",
    "      return 'Neutral'\n",
    "    else:\n",
    "      return 'Positive'\n",
    "\n",
    "  datorama_df = pd.read_csv(dataLocation)\n",
    "  datorama_df = datorama_df.dropna()\n",
    "  datorama_df = datorama_df.rename(columns={'Competitive Page Content Text':'Body','Competitive Page Content Date Formatted':'Date','Competitive Page Content Url':'URL','Page Content Count':\"Count\"})\n",
    "  datorama_df['Polarity'] = datorama_df['Body'].apply(lambda tweet: TextBlob(tweet).sentiment.polarity)\n",
    "  datorama_df['Sentiment'] = datorama_df['Polarity'].apply(getAnalysis)\n",
    "  datorama_df['Date'] = pd.to_datetime(datorama_df['Date'])\n",
    "  datorama_df = datorama_df[(datorama_df['Date'] > '2021-05-01') & (datorama_df['Date'] <= current)]\n",
    "  datorama_df['Date'] = datorama_df['Date'].dt.strftime(\"%Y-%m-%d\")\n",
    "  \n",
    "  datorama_df.to_gbq('baconator.datorama_textblob',projectId,if_exists='replace')\n",
    "  print(\"Data Pushed\")\n",
    "\n",
    "  return datorama_df"
   ]
  },
  {
   "cell_type": "code",
   "execution_count": 2,
   "metadata": {
    "id": "lvgUAZ6jCxMw"
   },
   "outputs": [],
   "source": [
    "def socialStudioPull(dataLocation):\n",
    "  def getAnalysis(score):\n",
    "    if score < 0:\n",
    "      return 'Negative'\n",
    "    elif score == 0:\n",
    "      return 'Neutral'\n",
    "    else:\n",
    "      return 'Positive'\n",
    "\n",
    "  datorama_df = pd.read_csv(dataLocation)\n",
    "  datorama_df = datorama_df.dropna()\n",
    "  datorama_df = datorama_df.rename(columns={'Social Mention Content':'Body','Social Mention Publish Date':'Date','Social Mention Url':'URL','Social Mention Count':\"Count\"})\n",
    "  datorama_df['Polarity'] = datorama_df['Body'].apply(lambda tweet: TextBlob(tweet).sentiment.polarity)\n",
    "  datorama_df['Sentiment'] = datorama_df['Polarity'].apply(getAnalysis)\n",
    "  datorama_df['Date'] = pd.to_datetime(datorama_df['Date'])\n",
    "  datorama_df = datorama_df[(datorama_df['Date'] > '2021-05-01') & (datorama_df['Date'] <= current)]\n",
    "  datorama_df['Date'] = datorama_df['Date'].dt.strftime(\"%Y-%m-%d\")\n",
    "\n",
    "  return datorama_df"
   ]
  },
  {
   "cell_type": "code",
   "execution_count": 3,
   "metadata": {
    "id": "kde_rNxpIltE"
   },
   "outputs": [],
   "source": [
    "def weatherForecast(url):\n",
    "  forecase_response = requests.get(url)\n",
    "  forecast_dict = forecase_response.json()\n",
    "  forecast_df = pd.json_normalize(forecast_dict)\n",
    "\n",
    "  #Unnest data\n",
    "  forecast_df = forecast_df.explode('forecast.forecastday')\n",
    "  forecast_df = pd.json_normalize(forecast_df['forecast.forecastday'])\n",
    "  forecast_df = forecast_df[['date','day.avgtemp_c','day.condition.text']]\n",
    "  forecast_df = forecast_df.rename(columns={'date':\"Date\"})\n",
    "  return forecast_df"
   ]
  },
  {
   "cell_type": "code",
   "execution_count": 4,
   "metadata": {
    "id": "TRMCeNFPIoC9"
   },
   "outputs": [],
   "source": [
    "\n",
    "def getCurrentWeather(url):\n",
    "  \n",
    "  current_response = requests.get(current_weather_url)\n",
    "  current_dict = forecase_response.json()\n",
    "  current_df = pd.json_normalize(forecast_dict)\n",
    "\n",
    "  # #Unnest data\n",
    "  current_df = current_df[['current.last_updated','current.temp_c','current.condition.text']]\n",
    "  current_df['current.last_updated'] = pd.to_datetime(current_df['current.last_updated'])\n",
    "  current_df['current.last_updated'] = current_df['current.last_updated'].dt.strftime(\"%Y-%m-%d\")\n",
    "  current_df = current_df.rename(columns={'current.last_updated':\"Date\",\"day.avgtemp_c\":'Temperature','day.condition.text':'Weather'})\n",
    "  return current_df"
   ]
  },
  {
   "cell_type": "code",
   "execution_count": null,
   "metadata": {
    "id": "XPUDoA_eIqGx"
   },
   "outputs": [],
   "source": [
    "def combineDataForecast(current,forecast):\n",
    "\n",
    "  mergedf = pd.merge(current,forecast, on=\"Date\")\n",
    "  mergedf = mergedf.rename(columns={'current.temp_c':\"current_temp_c\",\"current.condition.text\":'current_condition','day.avgtemp_c':'forecast_temp_c',\"day.condition.text\":'forecast_condition'})\n",
    "  mergedf.to_gbq('BQ_DATASET','BQ_PROJECT',if_exists='replace')\n",
    "\n",
    "  return mergedf"
   ]
  },
  {
   "cell_type": "code",
   "execution_count": null,
   "metadata": {
    "colab": {
     "base_uri": "https://localhost:8080/",
     "height": 97
    },
    "id": "FVOlI6DIptpX",
    "outputId": "0dee7257-cf7e-43b0-e46a-aa21d54a42b1"
   },
   "outputs": [
    {
     "name": "stderr",
     "output_type": "stream",
     "text": [
      "1it [00:05,  5.39s/it]\n"
     ]
    },
    {
     "data": {
      "text/html": [
       "<div>\n",
       "<style scoped>\n",
       "    .dataframe tbody tr th:only-of-type {\n",
       "        vertical-align: middle;\n",
       "    }\n",
       "\n",
       "    .dataframe tbody tr th {\n",
       "        vertical-align: top;\n",
       "    }\n",
       "\n",
       "    .dataframe thead th {\n",
       "        text-align: right;\n",
       "    }\n",
       "</style>\n",
       "<table border=\"1\" class=\"dataframe\">\n",
       "  <thead>\n",
       "    <tr style=\"text-align: right;\">\n",
       "      <th></th>\n",
       "      <th>Date</th>\n",
       "      <th>current_temp_c</th>\n",
       "      <th>current_condition</th>\n",
       "      <th>forecast_temp_c</th>\n",
       "      <th>forecast_condition</th>\n",
       "    </tr>\n",
       "  </thead>\n",
       "  <tbody>\n",
       "    <tr>\n",
       "      <th>0</th>\n",
       "      <td>2021-08-11</td>\n",
       "      <td>15.0</td>\n",
       "      <td>Partly cloudy</td>\n",
       "      <td>11.6</td>\n",
       "      <td>Patchy rain possible</td>\n",
       "    </tr>\n",
       "  </tbody>\n",
       "</table>\n",
       "</div>"
      ],
      "text/plain": [
       "         Date  current_temp_c  ... forecast_temp_c    forecast_condition\n",
       "0  2021-08-11            15.0  ...            11.6  Patchy rain possible\n",
       "\n",
       "[1 rows x 5 columns]"
      ]
     },
     "execution_count": 101,
     "metadata": {
      "tags": []
     },
     "output_type": "execute_result"
    }
   ],
   "source": [
    "combineDataForecast(current_weather,forecast_df)"
   ]
  },
  {
   "cell_type": "markdown",
   "metadata": {
    "id": "Zn6fU7AnJlAA"
   },
   "source": [
    "# **Call Functions** \n",
    "\n",
    "**Important Note: Only run the *createSentimentDataset* once as we only have 2000 tokens request available on NewsAPI**"
   ]
  }
 ],
 "metadata": {
  "colab": {
   "collapsed_sections": [],
   "name": "Sentiment-Scoring",
   "provenance": []
  },
  "kernelspec": {
   "display_name": "Python 3",
   "language": "python",
   "name": "python3"
  },
  "language_info": {
   "codemirror_mode": {
    "name": "ipython",
    "version": 3
   },
   "file_extension": ".py",
   "mimetype": "text/x-python",
   "name": "python",
   "nbconvert_exporter": "python",
   "pygments_lexer": "ipython3",
   "version": "3.8.8"
  }
 },
 "nbformat": 4,
 "nbformat_minor": 1
}
